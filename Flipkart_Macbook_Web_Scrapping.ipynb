{
  "nbformat": 4,
  "nbformat_minor": 0,
  "metadata": {
    "colab": {
      "name": "Flipkart Macbook_Web Scrapping.ipynb",
      "provenance": [],
      "collapsed_sections": [],
      "include_colab_link": true
    },
    "kernelspec": {
      "name": "python3",
      "display_name": "Python 3"
    },
    "language_info": {
      "name": "python"
    }
  },
  "cells": [
    {
      "cell_type": "markdown",
      "metadata": {
        "id": "view-in-github",
        "colab_type": "text"
      },
      "source": [
        "<a href=\"https://colab.research.google.com/github/YaminiBendale/Macbook_Details_Flipkart_Webscrabing/blob/main/Flipkart_Macbook_Web_Scrapping.ipynb\" target=\"_parent\"><img src=\"https://colab.research.google.com/assets/colab-badge.svg\" alt=\"Open In Colab\"/></a>"
      ]
    },
    {
      "cell_type": "markdown",
      "metadata": {
        "id": "cxnIymFj2h3X"
      },
      "source": [
        "Collection of macbook data available on flipkart with all product information\n"
      ]
    },
    {
      "cell_type": "code",
      "metadata": {
        "id": "dk2mLdfHo-VK"
      },
      "source": [
        "#import all the packages\n",
        "\n",
        "import requests\n",
        "from bs4 import BeautifulSoup\n",
        "import pandas as pd\n",
        "import time\n",
        "from IPython.display import clear_output"
      ],
      "execution_count": 38,
      "outputs": []
    },
    {
      "cell_type": "markdown",
      "metadata": {
        "id": "ei5QzogX2WuC"
      },
      "source": [
        "Checking the URL structure and it allows the Web Scrabing or not"
      ]
    },
    {
      "cell_type": "code",
      "metadata": {
        "id": "vYYlL5LLpCIp"
      },
      "source": [
        "#https://www.flipkart.com/search?q=macbook&sid=6bo%2Cb5g&as=on&as-show=on&otracker=AS_QueryStore_OrganicAutoSuggest_1_3_na_na_na&otracker1=AS_QueryStore_OrganicAutoSuggest_1_3_na_na_na&as-pos=1&as-type=RECENT&suggestionId=macbook%7CLaptops&requestId=725f153c-36bb-478c-8f10-e54c60187a13&as-backfill=on&page=1\n",
        "#https://www.flipkart.com/search?q=macbook&sid=6bo%2Cb5g&as=on&as-show=on&otracker=AS_QueryStore_OrganicAutoSuggest_1_3_na_na_na&otracker1=AS_QueryStore_OrganicAutoSuggest_1_3_na_na_na&as-pos=1&as-type=RECENT&suggestionId=macbook%7CLaptops&requestId=725f153c-36bb-478c-8f10-e54c60187a13&as-backfill=on&page=2\n"
      ],
      "execution_count": null,
      "outputs": []
    },
    {
      "cell_type": "markdown",
      "metadata": {
        "id": "NNxo59DBQUkz"
      },
      "source": [
        "\n",
        "Providing the Base url of the web page for which data need to extarct for the analysis"
      ]
    },
    {
      "cell_type": "code",
      "metadata": {
        "id": "_OMzIk16uo6-"
      },
      "source": [
        "base_url = 'https://www.flipkart.com/search?q=macbook&sid=6bo%2Cb5g&as=on&as-show=on&otracker=AS_QueryStore_OrganicAutoSuggest_1_3_na_na_na&otracker1=AS_QueryStore_OrganicAutoSuggest_1_3_na_na_na&as-pos=1&as-type=RECENT&suggestionId=macbook%7CLaptops&requestId=725f153c-36bb-478c-8f10-e54c60187a13&as-backfill=on&page='"
      ],
      "execution_count": 39,
      "outputs": []
    },
    {
      "cell_type": "code",
      "metadata": {
        "id": "woBxzBAfpUTa"
      },
      "source": [
        "product_name = []\n",
        "price =[]\n",
        "star = []\n",
        "warrenty = []\n",
        "ratings = []\n",
        "reviews = []\n",
        "Specifications = []"
      ],
      "execution_count": 40,
      "outputs": []
    },
    {
      "cell_type": "code",
      "metadata": {
        "id": "RMV46l_1pG5M"
      },
      "source": [
        "for i in range(1,3):\n",
        "  time.sleep(3)\n",
        "  req = requests.get(base_url+str(i))\n",
        "  soup = BeautifulSoup(req.text,'html')\n",
        "\n",
        "  #product name\n",
        "  p_name = soup.findAll('div',attrs={'class':'_4rR01T'})\n",
        "  [product_name.append(i.text) for i in p_name]\n",
        "  \n",
        "  #price\n",
        "  p = soup.findAll('div',attrs={'class':'_30jeq3 _1_WHN1'})\n",
        "  [price.append(i.text) for i in p]\n",
        "\n",
        "  #star\n",
        "  r = soup.findAll('div',attrs={'class':'gUuXy-'})\n",
        "  [star.append(i.span.div.text) for i in r]\n",
        "\n",
        "  #ratings and reviews\n",
        "  a = soup.findAll('span',attrs={'class':'_2_R_DZ'})\n",
        "  for i in a:\n",
        "    a = i.text.split('&')\n",
        "    ratings.append(a[0].split(' ')[0])\n",
        "    reviews.append(a[1].split(' ')[0])\n",
        "\n",
        "  #warrenty\n",
        "  w = soup.findAll('ul',attrs={'class':'_1xgFaf'})\n",
        "  k = [i.findAll('li')[-1] for i in w]\n",
        "  [warrenty.append(i.text) for i in k]\n",
        "\n",
        "\n",
        "  #specifications\n",
        "  prop = soup.findAll('ul',attrs={'class':'_1xgFaf'})\n",
        "  for i in prop:\n",
        "    a = i.findAll('li')[0:-2]\n",
        "    b =[i.text for i in a]\n",
        "    Specifications.append(','.join(b))\n",
        "\n",
        "  "
      ],
      "execution_count": 41,
      "outputs": []
    },
    {
      "cell_type": "markdown",
      "metadata": {
        "id": "nU-nVnoOPyzj"
      },
      "source": [
        "Checking the Lenth of all the Column Parameters for creating error free Dataframe\n",
        "\n",
        "---\n",
        "\n"
      ]
    },
    {
      "cell_type": "code",
      "metadata": {
        "id": "mcmncsRxMIr6"
      },
      "source": [
        "    print(len(product_name))\n",
        "    print(len(price))\n",
        "    print(len(star))\n",
        "    print(len(ratings))\n",
        "    print(len(reviews))\n",
        "    print(len(warrenty))\n",
        "    print(len(Specifications))"
      ],
      "execution_count": null,
      "outputs": []
    },
    {
      "cell_type": "markdown",
      "metadata": {
        "id": "TH3nfN3WPr5I"
      },
      "source": [
        "\n",
        "Making a data frame in tabular form using pandas"
      ]
    },
    {
      "cell_type": "code",
      "metadata": {
        "colab": {
          "base_uri": "https://localhost:8080/",
          "height": 780
        },
        "id": "xQhoDKfkusRQ",
        "outputId": "17e8c74a-8304-477d-f2a2-31d17b17ef1e"
      },
      "source": [
        "data = pd.DataFrame({'Product':product_name,\n",
        "                     'Price':price,\n",
        "                     'Ratings':star,\n",
        "                     'Ratings':ratings,\n",
        "                     'Reviews':reviews,\n",
        "                     'Warrentry':warrenty,\n",
        "                     'Features':Specifications})\n",
        "data"
      ],
      "execution_count": 36,
      "outputs": [
        {
          "output_type": "execute_result",
          "data": {
            "text/html": [
              "<div>\n",
              "<style scoped>\n",
              "    .dataframe tbody tr th:only-of-type {\n",
              "        vertical-align: middle;\n",
              "    }\n",
              "\n",
              "    .dataframe tbody tr th {\n",
              "        vertical-align: top;\n",
              "    }\n",
              "\n",
              "    .dataframe thead th {\n",
              "        text-align: right;\n",
              "    }\n",
              "</style>\n",
              "<table border=\"1\" class=\"dataframe\">\n",
              "  <thead>\n",
              "    <tr style=\"text-align: right;\">\n",
              "      <th></th>\n",
              "      <th>Product</th>\n",
              "      <th>Price</th>\n",
              "      <th>Ratings</th>\n",
              "      <th>Reviews</th>\n",
              "      <th>Warrentry</th>\n",
              "      <th>Features</th>\n",
              "    </tr>\n",
              "  </thead>\n",
              "  <tbody>\n",
              "    <tr>\n",
              "      <th>0</th>\n",
              "      <td>APPLE MacBook Air M1 - (8 GB/256 GB SSD/Mac OS...</td>\n",
              "      <td>₹92,900</td>\n",
              "      <td>616</td>\n",
              "      <td>89</td>\n",
              "      <td>1 Year Limited Warra­nty</td>\n",
              "      <td>Apple M1 Processor,8 GB DDR4 RAM,Mac OS Operat...</td>\n",
              "    </tr>\n",
              "    <tr>\n",
              "      <th>1</th>\n",
              "      <td>APPLE MacBook Air M1 - (8 GB/256 GB SSD/Mac OS...</td>\n",
              "      <td>₹92,900</td>\n",
              "      <td>616</td>\n",
              "      <td>89</td>\n",
              "      <td>1 Year Limited Warra­nty</td>\n",
              "      <td>Apple M1 Processor,8 GB DDR4 RAM,Mac OS Operat...</td>\n",
              "    </tr>\n",
              "    <tr>\n",
              "      <th>2</th>\n",
              "      <td>APPLE MacBook Air M1 - (8 GB/512 GB SSD/Mac OS...</td>\n",
              "      <td>₹1,14,990</td>\n",
              "      <td>186</td>\n",
              "      <td>22</td>\n",
              "      <td>1 Year Limited Warra­nty</td>\n",
              "      <td>Apple M1 Processor,8 GB DDR4 RAM,Mac OS Operat...</td>\n",
              "    </tr>\n",
              "    <tr>\n",
              "      <th>3</th>\n",
              "      <td>APPLE MacBook Air M1 - (8 GB/512 GB SSD/Mac OS...</td>\n",
              "      <td>₹1,14,990</td>\n",
              "      <td>186</td>\n",
              "      <td>22</td>\n",
              "      <td>1 Year Limited Warra­nty</td>\n",
              "      <td>Apple M1 Processor,8 GB DDR4 RAM,Mac OS Operat...</td>\n",
              "    </tr>\n",
              "    <tr>\n",
              "      <th>4</th>\n",
              "      <td>APPLE MacBook Air Core i5 10th Gen - (8 GB/512...</td>\n",
              "      <td>₹99,990</td>\n",
              "      <td>420</td>\n",
              "      <td>23</td>\n",
              "      <td>1 Year Limited Warranty</td>\n",
              "      <td>Intel Core i5 Processor (10th Gen),8 GB LPDDR4...</td>\n",
              "    </tr>\n",
              "    <tr>\n",
              "      <th>5</th>\n",
              "      <td>APPLE MacBook Air Core i5 10th Gen - (8 GB/256...</td>\n",
              "      <td>₹92,990</td>\n",
              "      <td>420</td>\n",
              "      <td>23</td>\n",
              "      <td>1 Year Limited Warranty</td>\n",
              "      <td>Intel Core i5 Processor (10th Gen),8 GB LPDDR4...</td>\n",
              "    </tr>\n",
              "    <tr>\n",
              "      <th>6</th>\n",
              "      <td>APPLE MacBook Air Core i5 10th Gen - (8 GB/512...</td>\n",
              "      <td>₹1,09,990</td>\n",
              "      <td>420</td>\n",
              "      <td>23</td>\n",
              "      <td>1 Year Limited Warranty</td>\n",
              "      <td>Intel Core i5 Processor (10th Gen),8 GB LPDDR4...</td>\n",
              "    </tr>\n",
              "    <tr>\n",
              "      <th>7</th>\n",
              "      <td>APPLE MacBook Air M1 - (8 GB/512 GB SSD/Mac OS...</td>\n",
              "      <td>₹1,14,990</td>\n",
              "      <td>186</td>\n",
              "      <td>22</td>\n",
              "      <td>1 Year Limited Warra­nty</td>\n",
              "      <td>Apple M1 Processor,8 GB DDR4 RAM,Mac OS Operat...</td>\n",
              "    </tr>\n",
              "    <tr>\n",
              "      <th>8</th>\n",
              "      <td>APPLE MacBook Pro M1 - (8 GB/256 GB SSD/Mac OS...</td>\n",
              "      <td>₹1,18,990</td>\n",
              "      <td>161</td>\n",
              "      <td>19</td>\n",
              "      <td>1 Year Limited Warra­nty</td>\n",
              "      <td>Apple M1 Processor,8 GB DDR4 RAM,Mac OS Operat...</td>\n",
              "    </tr>\n",
              "    <tr>\n",
              "      <th>9</th>\n",
              "      <td>APPLE MacBook Pro M1 - (8 GB/512 GB SSD/Mac OS...</td>\n",
              "      <td>₹1,39,990</td>\n",
              "      <td>93</td>\n",
              "      <td>10</td>\n",
              "      <td>1 Year Limited Warra­nty</td>\n",
              "      <td>Apple M1 Processor,8 GB DDR4 RAM,Mac OS Operat...</td>\n",
              "    </tr>\n",
              "    <tr>\n",
              "      <th>10</th>\n",
              "      <td>APPLE MacBook Pro Core i7 9th Gen - (16 GB/512...</td>\n",
              "      <td>₹1,84,990</td>\n",
              "      <td>324</td>\n",
              "      <td>44</td>\n",
              "      <td>1 Year Onsite Warranty</td>\n",
              "      <td>Intel Core i7 Processor (9th Gen),16 GB DDR4 R...</td>\n",
              "    </tr>\n",
              "    <tr>\n",
              "      <th>11</th>\n",
              "      <td>APPLE MacBook Pro M1 - (8 GB/256 GB SSD/Mac OS...</td>\n",
              "      <td>₹1,16,990</td>\n",
              "      <td>161</td>\n",
              "      <td>19</td>\n",
              "      <td>1 Year Limited Warra­nty</td>\n",
              "      <td>Apple M1 Processor,8 GB DDR4 RAM,Mac OS Operat...</td>\n",
              "    </tr>\n",
              "    <tr>\n",
              "      <th>12</th>\n",
              "      <td>APPLE MacBook Pro Core i9 9th Gen - (16 GB/1 T...</td>\n",
              "      <td>₹2,24,990</td>\n",
              "      <td>145</td>\n",
              "      <td>14</td>\n",
              "      <td>1 Year Onsite Warranty</td>\n",
              "      <td>Intel Core i9 Processor (9th Gen),16 GB DDR4 R...</td>\n",
              "    </tr>\n",
              "    <tr>\n",
              "      <th>13</th>\n",
              "      <td>APPLE MacBook Pro Core i7 9th Gen - (16 GB/512...</td>\n",
              "      <td>₹1,99,900</td>\n",
              "      <td>41</td>\n",
              "      <td>5</td>\n",
              "      <td>1 Year Onsite Warranty</td>\n",
              "      <td>Intel Core i7 Processor (9th Gen),16 GB DDR4 R...</td>\n",
              "    </tr>\n",
              "    <tr>\n",
              "      <th>14</th>\n",
              "      <td>APPLE MacBook Pro Core i9 9th Gen - (16 GB/1 T...</td>\n",
              "      <td>₹2,24,990</td>\n",
              "      <td>39</td>\n",
              "      <td>3</td>\n",
              "      <td>1 Year Onsite Warranty</td>\n",
              "      <td>Intel Core i9 Processor (9th Gen),16 GB DDR4 R...</td>\n",
              "    </tr>\n",
              "    <tr>\n",
              "      <th>15</th>\n",
              "      <td>APPLE MacBook Pro M1 - (8 GB/512 GB SSD/Mac OS...</td>\n",
              "      <td>₹1,39,990</td>\n",
              "      <td>93</td>\n",
              "      <td>10</td>\n",
              "      <td>1 Year Limited Warra­nty</td>\n",
              "      <td>Apple M1 Processor,8 GB DDR4 RAM,Mac OS Operat...</td>\n",
              "    </tr>\n",
              "    <tr>\n",
              "      <th>16</th>\n",
              "      <td>APPLE MacBook Pro Core i5 8th Gen - (8 GB/512 ...</td>\n",
              "      <td>₹1,69,990</td>\n",
              "      <td>108</td>\n",
              "      <td>13</td>\n",
              "      <td>1 Year Onsite Warranty</td>\n",
              "      <td>Intel Core i5 Processor (8th Gen),8 GB DDR3 RA...</td>\n",
              "    </tr>\n",
              "    <tr>\n",
              "      <th>17</th>\n",
              "      <td>APPLE MacBook Pro Core i5 8th Gen - (8 GB/512 ...</td>\n",
              "      <td>₹1,13,990</td>\n",
              "      <td>108</td>\n",
              "      <td>13</td>\n",
              "      <td>1 Year Onsite Warranty</td>\n",
              "      <td>Intel Core i5 Processor (8th Gen),8 GB DDR3 RA...</td>\n",
              "    </tr>\n",
              "    <tr>\n",
              "      <th>18</th>\n",
              "      <td>APPLE MacBook Pro with Touch Bar Core i5 8th G...</td>\n",
              "      <td>₹98,990</td>\n",
              "      <td>256</td>\n",
              "      <td>35</td>\n",
              "      <td>1 Year Limited Hardware Warranty</td>\n",
              "      <td>Intel Core i5 Processor (8th Gen),8 GB LPDDR3 ...</td>\n",
              "    </tr>\n",
              "    <tr>\n",
              "      <th>19</th>\n",
              "      <td>APPLE MacBook Pro with Touch Bar Core i5 10th ...</td>\n",
              "      <td>₹1,69,990</td>\n",
              "      <td>192</td>\n",
              "      <td>23</td>\n",
              "      <td>1 Year Limited Hardware Warranty</td>\n",
              "      <td>Intel Core i5 Processor (10th Gen),16 GB LPDDR...</td>\n",
              "    </tr>\n",
              "    <tr>\n",
              "      <th>20</th>\n",
              "      <td>APPLE MacBook Pro with Touch Bar Core i5 10th ...</td>\n",
              "      <td>₹1,69,990</td>\n",
              "      <td>31</td>\n",
              "      <td>5</td>\n",
              "      <td>1 Year Limited Hardware Warranty</td>\n",
              "      <td>Intel Core i5 Processor (10th Gen),16 GB LPDDR...</td>\n",
              "    </tr>\n",
              "    <tr>\n",
              "      <th>21</th>\n",
              "      <td>APPLE MacBook Pro with Touch Bar Core i5 10th ...</td>\n",
              "      <td>₹1,74,900</td>\n",
              "      <td>32</td>\n",
              "      <td>2</td>\n",
              "      <td>1 Year Limited Hardware Warranty</td>\n",
              "      <td>Intel Core i5 Processor (10th Gen),16 GB LPDDR...</td>\n",
              "    </tr>\n",
              "    <tr>\n",
              "      <th>22</th>\n",
              "      <td>APPLE MacBook Pro with Touch Bar Core i5 8th G...</td>\n",
              "      <td>₹1,32,990</td>\n",
              "      <td>17</td>\n",
              "      <td>1</td>\n",
              "      <td>1 Year Limited Hardware Warranty</td>\n",
              "      <td>Intel Core i5 Processor (8th Gen),8 GB LPDDR3 ...</td>\n",
              "    </tr>\n",
              "    <tr>\n",
              "      <th>23</th>\n",
              "      <td>APPLE MacBook Pro with Touch Bar Core i5 10th ...</td>\n",
              "      <td>₹1,74,900</td>\n",
              "      <td>98</td>\n",
              "      <td>5</td>\n",
              "      <td>1 Year Limited Hardware Warranty</td>\n",
              "      <td>Intel Core i5 Processor (10th Gen),16 GB LPDDR...</td>\n",
              "    </tr>\n",
              "  </tbody>\n",
              "</table>\n",
              "</div>"
            ],
            "text/plain": [
              "                                              Product  ...                                           Features\n",
              "0   APPLE MacBook Air M1 - (8 GB/256 GB SSD/Mac OS...  ...  Apple M1 Processor,8 GB DDR4 RAM,Mac OS Operat...\n",
              "1   APPLE MacBook Air M1 - (8 GB/256 GB SSD/Mac OS...  ...  Apple M1 Processor,8 GB DDR4 RAM,Mac OS Operat...\n",
              "2   APPLE MacBook Air M1 - (8 GB/512 GB SSD/Mac OS...  ...  Apple M1 Processor,8 GB DDR4 RAM,Mac OS Operat...\n",
              "3   APPLE MacBook Air M1 - (8 GB/512 GB SSD/Mac OS...  ...  Apple M1 Processor,8 GB DDR4 RAM,Mac OS Operat...\n",
              "4   APPLE MacBook Air Core i5 10th Gen - (8 GB/512...  ...  Intel Core i5 Processor (10th Gen),8 GB LPDDR4...\n",
              "5   APPLE MacBook Air Core i5 10th Gen - (8 GB/256...  ...  Intel Core i5 Processor (10th Gen),8 GB LPDDR4...\n",
              "6   APPLE MacBook Air Core i5 10th Gen - (8 GB/512...  ...  Intel Core i5 Processor (10th Gen),8 GB LPDDR4...\n",
              "7   APPLE MacBook Air M1 - (8 GB/512 GB SSD/Mac OS...  ...  Apple M1 Processor,8 GB DDR4 RAM,Mac OS Operat...\n",
              "8   APPLE MacBook Pro M1 - (8 GB/256 GB SSD/Mac OS...  ...  Apple M1 Processor,8 GB DDR4 RAM,Mac OS Operat...\n",
              "9   APPLE MacBook Pro M1 - (8 GB/512 GB SSD/Mac OS...  ...  Apple M1 Processor,8 GB DDR4 RAM,Mac OS Operat...\n",
              "10  APPLE MacBook Pro Core i7 9th Gen - (16 GB/512...  ...  Intel Core i7 Processor (9th Gen),16 GB DDR4 R...\n",
              "11  APPLE MacBook Pro M1 - (8 GB/256 GB SSD/Mac OS...  ...  Apple M1 Processor,8 GB DDR4 RAM,Mac OS Operat...\n",
              "12  APPLE MacBook Pro Core i9 9th Gen - (16 GB/1 T...  ...  Intel Core i9 Processor (9th Gen),16 GB DDR4 R...\n",
              "13  APPLE MacBook Pro Core i7 9th Gen - (16 GB/512...  ...  Intel Core i7 Processor (9th Gen),16 GB DDR4 R...\n",
              "14  APPLE MacBook Pro Core i9 9th Gen - (16 GB/1 T...  ...  Intel Core i9 Processor (9th Gen),16 GB DDR4 R...\n",
              "15  APPLE MacBook Pro M1 - (8 GB/512 GB SSD/Mac OS...  ...  Apple M1 Processor,8 GB DDR4 RAM,Mac OS Operat...\n",
              "16  APPLE MacBook Pro Core i5 8th Gen - (8 GB/512 ...  ...  Intel Core i5 Processor (8th Gen),8 GB DDR3 RA...\n",
              "17  APPLE MacBook Pro Core i5 8th Gen - (8 GB/512 ...  ...  Intel Core i5 Processor (8th Gen),8 GB DDR3 RA...\n",
              "18  APPLE MacBook Pro with Touch Bar Core i5 8th G...  ...  Intel Core i5 Processor (8th Gen),8 GB LPDDR3 ...\n",
              "19  APPLE MacBook Pro with Touch Bar Core i5 10th ...  ...  Intel Core i5 Processor (10th Gen),16 GB LPDDR...\n",
              "20  APPLE MacBook Pro with Touch Bar Core i5 10th ...  ...  Intel Core i5 Processor (10th Gen),16 GB LPDDR...\n",
              "21  APPLE MacBook Pro with Touch Bar Core i5 10th ...  ...  Intel Core i5 Processor (10th Gen),16 GB LPDDR...\n",
              "22  APPLE MacBook Pro with Touch Bar Core i5 8th G...  ...  Intel Core i5 Processor (8th Gen),8 GB LPDDR3 ...\n",
              "23  APPLE MacBook Pro with Touch Bar Core i5 10th ...  ...  Intel Core i5 Processor (10th Gen),16 GB LPDDR...\n",
              "\n",
              "[24 rows x 6 columns]"
            ]
          },
          "metadata": {
            "tags": []
          },
          "execution_count": 36
        }
      ]
    },
    {
      "cell_type": "markdown",
      "metadata": {
        "id": "Yajfz5tuPkcl"
      },
      "source": [
        "Creating a csv file of the collected data"
      ]
    },
    {
      "cell_type": "code",
      "metadata": {
        "id": "0IXsN76V3WtJ"
      },
      "source": [
        "data.to_csv('Flipkart_MacBook_details.csv',index=False)"
      ],
      "execution_count": 43,
      "outputs": []
    },
    {
      "cell_type": "code",
      "metadata": {
        "id": "PP_SkfoaCENC"
      },
      "source": [
        ""
      ],
      "execution_count": null,
      "outputs": []
    }
  ]
}